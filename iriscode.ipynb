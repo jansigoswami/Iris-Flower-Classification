{
 "cells": [
  {
   "cell_type": "code",
   "execution_count": 1,
   "id": "e9cb310f-310c-4fd1-95ca-ee9e800668f1",
   "metadata": {},
   "outputs": [],
   "source": [
    "import pandas as pd"
   ]
  },
  {
   "cell_type": "code",
   "execution_count": 2,
   "id": "f70dd5a2-d6b1-4654-ac5b-1f4c75f20a27",
   "metadata": {},
   "outputs": [],
   "source": [
    "import numpy as np"
   ]
  },
  {
   "cell_type": "code",
   "execution_count": 5,
   "id": "7fb11138-9b49-4ccc-b70e-f184376e9a8e",
   "metadata": {},
   "outputs": [
    {
     "name": "stderr",
     "output_type": "stream",
     "text": [
      "\n",
      "[notice] A new release of pip is available: 23.1.2 -> 23.2.1\n",
      "[notice] To update, run: python.exe -m pip install --upgrade pip\n"
     ]
    },
    {
     "name": "stdout",
     "output_type": "stream",
     "text": [
      "Collecting matplotlib\n",
      "  Downloading matplotlib-3.7.2-cp311-cp311-win_amd64.whl (7.5 MB)\n",
      "                                              0.0/7.5 MB ? eta -:--:--\n",
      "                                              0.1/7.5 MB 1.7 MB/s eta 0:00:05\n",
      "     -                                        0.2/7.5 MB 2.4 MB/s eta 0:00:04\n",
      "     -                                        0.3/7.5 MB 2.7 MB/s eta 0:00:03\n",
      "     -                                        0.3/7.5 MB 2.3 MB/s eta 0:00:04\n",
      "     --                                       0.5/7.5 MB 2.4 MB/s eta 0:00:03\n",
      "     --                                       0.5/7.5 MB 2.4 MB/s eta 0:00:03\n",
      "     --                                       0.5/7.5 MB 1.6 MB/s eta 0:00:05\n",
      "     ---                                      0.6/7.5 MB 1.8 MB/s eta 0:00:04\n",
      "     ---                                      0.6/7.5 MB 1.8 MB/s eta 0:00:04\n",
      "     ---                                      0.7/7.5 MB 1.6 MB/s eta 0:00:05\n",
      "     ---                                      0.7/7.5 MB 1.6 MB/s eta 0:00:05\n",
      "     ---                                      0.7/7.5 MB 1.4 MB/s eta 0:00:05\n",
      "     ---                                      0.7/7.5 MB 1.4 MB/s eta 0:00:05\n",
      "     -----                                    1.0/7.5 MB 1.6 MB/s eta 0:00:05\n",
      "     -----                                    1.0/7.5 MB 1.6 MB/s eta 0:00:05\n",
      "     -----                                    1.0/7.5 MB 1.5 MB/s eta 0:00:05\n",
      "     ------                                   1.2/7.5 MB 1.6 MB/s eta 0:00:04\n",
      "     -------                                  1.3/7.5 MB 1.6 MB/s eta 0:00:04\n",
      "     --------                                 1.5/7.5 MB 1.8 MB/s eta 0:00:04\n",
      "     --------                                 1.6/7.5 MB 1.8 MB/s eta 0:00:04\n",
      "     ---------                                1.8/7.5 MB 1.9 MB/s eta 0:00:03\n",
      "     ----------                               2.0/7.5 MB 2.0 MB/s eta 0:00:03\n",
      "     -----------                              2.1/7.5 MB 2.1 MB/s eta 0:00:03\n",
      "     ------------                             2.3/7.5 MB 2.1 MB/s eta 0:00:03\n",
      "     ------------                             2.4/7.5 MB 2.2 MB/s eta 0:00:03\n",
      "     ------------                             2.4/7.5 MB 2.2 MB/s eta 0:00:03\n",
      "     --------------                           2.7/7.5 MB 2.2 MB/s eta 0:00:03\n",
      "     --------------                           2.8/7.5 MB 2.2 MB/s eta 0:00:03\n",
      "     ---------------                          3.0/7.5 MB 2.3 MB/s eta 0:00:02\n",
      "     -----------------                        3.2/7.5 MB 2.4 MB/s eta 0:00:02\n",
      "     -----------------                        3.3/7.5 MB 2.4 MB/s eta 0:00:02\n",
      "     -------------------                      3.6/7.5 MB 2.5 MB/s eta 0:00:02\n",
      "     --------------------                     3.9/7.5 MB 2.6 MB/s eta 0:00:02\n",
      "     ----------------------                   4.1/7.5 MB 2.7 MB/s eta 0:00:02\n",
      "     -----------------------                  4.3/7.5 MB 2.7 MB/s eta 0:00:02\n",
      "     -----------------------                  4.4/7.5 MB 2.8 MB/s eta 0:00:02\n",
      "     -----------------------                  4.4/7.5 MB 2.8 MB/s eta 0:00:02\n",
      "     -----------------------                  4.4/7.5 MB 2.6 MB/s eta 0:00:02\n",
      "     -------------------------                4.8/7.5 MB 2.7 MB/s eta 0:00:02\n",
      "     --------------------------               5.0/7.5 MB 2.8 MB/s eta 0:00:01\n",
      "     ----------------------------             5.3/7.5 MB 2.9 MB/s eta 0:00:01\n",
      "     -----------------------------            5.5/7.5 MB 2.9 MB/s eta 0:00:01\n",
      "     -------------------------------          5.8/7.5 MB 3.0 MB/s eta 0:00:01\n",
      "     --------------------------------         6.1/7.5 MB 3.1 MB/s eta 0:00:01\n",
      "     ----------------------------------       6.4/7.5 MB 3.2 MB/s eta 0:00:01\n",
      "     ----------------------------------       6.6/7.5 MB 3.2 MB/s eta 0:00:01\n",
      "     -------------------------------------    7.0/7.5 MB 3.3 MB/s eta 0:00:01\n",
      "     --------------------------------------   7.2/7.5 MB 3.3 MB/s eta 0:00:01\n",
      "     --------------------------------------   7.2/7.5 MB 3.3 MB/s eta 0:00:01\n",
      "     ---------------------------------------  7.4/7.5 MB 3.3 MB/s eta 0:00:01\n",
      "     ---------------------------------------  7.5/7.5 MB 3.3 MB/s eta 0:00:01\n",
      "     ---------------------------------------  7.5/7.5 MB 3.3 MB/s eta 0:00:01\n",
      "     ---------------------------------------  7.5/7.5 MB 3.3 MB/s eta 0:00:01\n",
      "     ---------------------------------------- 7.5/7.5 MB 3.1 MB/s eta 0:00:00\n",
      "Collecting contourpy>=1.0.1 (from matplotlib)\n",
      "  Downloading contourpy-1.1.0-cp311-cp311-win_amd64.whl (470 kB)\n",
      "                                              0.0/470.9 kB ? eta -:--:--\n",
      "     ------------                           153.6/470.9 kB 3.1 MB/s eta 0:00:01\n",
      "     ----------------------------------     430.1/470.9 kB 5.4 MB/s eta 0:00:01\n",
      "     -------------------------------------- 470.9/470.9 kB 5.0 MB/s eta 0:00:00\n",
      "Collecting cycler>=0.10 (from matplotlib)\n",
      "  Downloading cycler-0.11.0-py3-none-any.whl (6.4 kB)\n",
      "Collecting fonttools>=4.22.0 (from matplotlib)\n",
      "  Downloading fonttools-4.42.0-cp311-cp311-win_amd64.whl (2.1 MB)\n",
      "                                              0.0/2.1 MB ? eta -:--:--\n",
      "     --                                       0.1/2.1 MB 4.3 MB/s eta 0:00:01\n",
      "     --------                                 0.5/2.1 MB 5.8 MB/s eta 0:00:01\n",
      "     ------------                             0.7/2.1 MB 6.1 MB/s eta 0:00:01\n",
      "     --------------                           0.8/2.1 MB 5.0 MB/s eta 0:00:01\n",
      "     ------------------                       1.0/2.1 MB 4.8 MB/s eta 0:00:01\n",
      "     -----------------------                  1.3/2.1 MB 5.0 MB/s eta 0:00:01\n",
      "     -------------------------                1.4/2.1 MB 4.6 MB/s eta 0:00:01\n",
      "     --------------------------               1.4/2.1 MB 4.3 MB/s eta 0:00:01\n",
      "     -------------------------------          1.7/2.1 MB 4.4 MB/s eta 0:00:01\n",
      "     -----------------------------------      1.9/2.1 MB 4.4 MB/s eta 0:00:01\n",
      "     ---------------------------------------  2.1/2.1 MB 4.4 MB/s eta 0:00:01\n",
      "     ---------------------------------------- 2.1/2.1 MB 4.1 MB/s eta 0:00:00\n",
      "Collecting kiwisolver>=1.0.1 (from matplotlib)\n",
      "  Downloading kiwisolver-1.4.4-cp311-cp311-win_amd64.whl (55 kB)\n",
      "                                              0.0/55.4 kB ? eta -:--:--\n",
      "     ---------------------------------------- 55.4/55.4 kB 2.8 MB/s eta 0:00:00\n",
      "Requirement already satisfied: numpy>=1.20 in c:\\users\\hp1\\appdata\\local\\programs\\python\\python311\\lib\\site-packages (from matplotlib) (1.25.2)\n",
      "Requirement already satisfied: packaging>=20.0 in c:\\users\\hp1\\appdata\\local\\programs\\python\\python311\\lib\\site-packages (from matplotlib) (23.1)\n",
      "Collecting pillow>=6.2.0 (from matplotlib)\n",
      "  Downloading Pillow-10.0.0-cp311-cp311-win_amd64.whl (2.5 MB)\n",
      "                                              0.0/2.5 MB ? eta -:--:--\n",
      "     -----                                    0.4/2.5 MB 11.6 MB/s eta 0:00:01\n",
      "     ----------                               0.7/2.5 MB 10.4 MB/s eta 0:00:01\n",
      "     -----------                              0.7/2.5 MB 5.8 MB/s eta 0:00:01\n",
      "     -----------------                        1.1/2.5 MB 6.2 MB/s eta 0:00:01\n",
      "     -------------------                      1.2/2.5 MB 5.6 MB/s eta 0:00:01\n",
      "     ----------------------                   1.4/2.5 MB 5.3 MB/s eta 0:00:01\n",
      "     -------------------------                1.6/2.5 MB 5.1 MB/s eta 0:00:01\n",
      "     --------------------------               1.7/2.5 MB 4.9 MB/s eta 0:00:01\n",
      "     ------------------------------           1.9/2.5 MB 5.1 MB/s eta 0:00:01\n",
      "     -----------------------------------      2.2/2.5 MB 5.1 MB/s eta 0:00:01\n",
      "     ---------------------------------------  2.5/2.5 MB 5.3 MB/s eta 0:00:01\n",
      "     ---------------------------------------- 2.5/2.5 MB 5.0 MB/s eta 0:00:00\n",
      "Collecting pyparsing<3.1,>=2.3.1 (from matplotlib)\n",
      "  Downloading pyparsing-3.0.9-py3-none-any.whl (98 kB)\n",
      "                                              0.0/98.3 kB ? eta -:--:--\n",
      "     ---------------------------------------- 98.3/98.3 kB 5.5 MB/s eta 0:00:00\n",
      "Requirement already satisfied: python-dateutil>=2.7 in c:\\users\\hp1\\appdata\\local\\programs\\python\\python311\\lib\\site-packages (from matplotlib) (2.8.2)\n",
      "Requirement already satisfied: six>=1.5 in c:\\users\\hp1\\appdata\\local\\programs\\python\\python311\\lib\\site-packages (from python-dateutil>=2.7->matplotlib) (1.16.0)\n",
      "Installing collected packages: pyparsing, pillow, kiwisolver, fonttools, cycler, contourpy, matplotlib\n",
      "Successfully installed contourpy-1.1.0 cycler-0.11.0 fonttools-4.42.0 kiwisolver-1.4.4 matplotlib-3.7.2 pillow-10.0.0 pyparsing-3.0.9\n"
     ]
    }
   ],
   "source": [
    "!pip install matplotlib"
   ]
  },
  {
   "cell_type": "code",
   "execution_count": 6,
   "id": "a72f26cb-2ff4-453a-8915-fe8f1cb2b5ed",
   "metadata": {},
   "outputs": [
    {
     "name": "stderr",
     "output_type": "stream",
     "text": [
      "ERROR: Could not find a version that satisfies the requirement os (from versions: none)\n",
      "ERROR: No matching distribution found for os\n",
      "\n",
      "[notice] A new release of pip is available: 23.1.2 -> 23.2.1\n",
      "[notice] To update, run: python.exe -m pip install --upgrade pip\n"
     ]
    }
   ],
   "source": [
    "!pip install os\n"
   ]
  },
  {
   "cell_type": "code",
   "execution_count": 7,
   "id": "0e6d6584-60bd-414e-a061-8ef1b6903707",
   "metadata": {},
   "outputs": [
    {
     "name": "stdout",
     "output_type": "stream",
     "text": [
      "Collecting seaborn\n",
      "  Downloading seaborn-0.12.2-py3-none-any.whl (293 kB)\n",
      "                                              0.0/293.3 kB ? eta -:--:--\n",
      "     -----                                 41.0/293.3 kB 960.0 kB/s eta 0:00:01\n",
      "     --------                                61.4/293.3 kB 1.1 MB/s eta 0:00:01\n",
      "     ------------------                     143.4/293.3 kB 1.1 MB/s eta 0:00:01\n",
      "     -----------------------------------    276.5/293.3 kB 1.7 MB/s eta 0:00:01\n",
      "     -------------------------------------- 293.3/293.3 kB 1.6 MB/s eta 0:00:00\n",
      "Requirement already satisfied: numpy!=1.24.0,>=1.17 in c:\\users\\hp1\\appdata\\local\\programs\\python\\python311\\lib\\site-packages (from seaborn) (1.25.2)\n",
      "Requirement already satisfied: pandas>=0.25 in c:\\users\\hp1\\appdata\\local\\programs\\python\\python311\\lib\\site-packages (from seaborn) (2.0.3)\n",
      "Requirement already satisfied: matplotlib!=3.6.1,>=3.1 in c:\\users\\hp1\\appdata\\local\\programs\\python\\python311\\lib\\site-packages (from seaborn) (3.7.2)\n",
      "Requirement already satisfied: contourpy>=1.0.1 in c:\\users\\hp1\\appdata\\local\\programs\\python\\python311\\lib\\site-packages (from matplotlib!=3.6.1,>=3.1->seaborn) (1.1.0)\n",
      "Requirement already satisfied: cycler>=0.10 in c:\\users\\hp1\\appdata\\local\\programs\\python\\python311\\lib\\site-packages (from matplotlib!=3.6.1,>=3.1->seaborn) (0.11.0)\n",
      "Requirement already satisfied: fonttools>=4.22.0 in c:\\users\\hp1\\appdata\\local\\programs\\python\\python311\\lib\\site-packages (from matplotlib!=3.6.1,>=3.1->seaborn) (4.42.0)\n",
      "Requirement already satisfied: kiwisolver>=1.0.1 in c:\\users\\hp1\\appdata\\local\\programs\\python\\python311\\lib\\site-packages (from matplotlib!=3.6.1,>=3.1->seaborn) (1.4.4)\n",
      "Requirement already satisfied: packaging>=20.0 in c:\\users\\hp1\\appdata\\local\\programs\\python\\python311\\lib\\site-packages (from matplotlib!=3.6.1,>=3.1->seaborn) (23.1)\n",
      "Requirement already satisfied: pillow>=6.2.0 in c:\\users\\hp1\\appdata\\local\\programs\\python\\python311\\lib\\site-packages (from matplotlib!=3.6.1,>=3.1->seaborn) (10.0.0)\n",
      "Requirement already satisfied: pyparsing<3.1,>=2.3.1 in c:\\users\\hp1\\appdata\\local\\programs\\python\\python311\\lib\\site-packages (from matplotlib!=3.6.1,>=3.1->seaborn) (3.0.9)\n",
      "Requirement already satisfied: python-dateutil>=2.7 in c:\\users\\hp1\\appdata\\local\\programs\\python\\python311\\lib\\site-packages (from matplotlib!=3.6.1,>=3.1->seaborn) (2.8.2)\n",
      "Requirement already satisfied: pytz>=2020.1 in c:\\users\\hp1\\appdata\\local\\programs\\python\\python311\\lib\\site-packages (from pandas>=0.25->seaborn) (2023.3)\n",
      "Requirement already satisfied: tzdata>=2022.1 in c:\\users\\hp1\\appdata\\local\\programs\\python\\python311\\lib\\site-packages (from pandas>=0.25->seaborn) (2023.3)\n",
      "Requirement already satisfied: six>=1.5 in c:\\users\\hp1\\appdata\\local\\programs\\python\\python311\\lib\\site-packages (from python-dateutil>=2.7->matplotlib!=3.6.1,>=3.1->seaborn) (1.16.0)\n",
      "Installing collected packages: seaborn\n",
      "Successfully installed seaborn-0.12.2\n"
     ]
    },
    {
     "name": "stderr",
     "output_type": "stream",
     "text": [
      "\n",
      "[notice] A new release of pip is available: 23.1.2 -> 23.2.1\n",
      "[notice] To update, run: python.exe -m pip install --upgrade pip\n"
     ]
    }
   ],
   "source": [
    "!pip install sea"
   ]
  },
  {
   "cell_type": "code",
   "execution_count": 9,
   "id": "ffdccc6e-ed9a-4fe1-957d-4a8037ba252b",
   "metadata": {},
   "outputs": [],
   "source": [
    "import pandas as pd\n",
    "import numpy as np\n",
    "import os\n",
    "import matplotlib.pyplot as plt\n",
    "import seaborn as sns\n",
    "\n"
   ]
  },
  {
   "cell_type": "code",
   "execution_count": 18,
   "id": "49a34888-1e76-4efa-ad96-996cbe9897cb",
   "metadata": {},
   "outputs": [
    {
     "data": {
      "text/html": [
       "<div>\n",
       "<style scoped>\n",
       "    .dataframe tbody tr th:only-of-type {\n",
       "        vertical-align: middle;\n",
       "    }\n",
       "\n",
       "    .dataframe tbody tr th {\n",
       "        vertical-align: top;\n",
       "    }\n",
       "\n",
       "    .dataframe thead th {\n",
       "        text-align: right;\n",
       "    }\n",
       "</style>\n",
       "<table border=\"1\" class=\"dataframe\">\n",
       "  <thead>\n",
       "    <tr style=\"text-align: right;\">\n",
       "      <th></th>\n",
       "      <th>sepal_length</th>\n",
       "      <th>sepal_width</th>\n",
       "      <th>petal_length</th>\n",
       "      <th>petal_width</th>\n",
       "      <th>species</th>\n",
       "    </tr>\n",
       "  </thead>\n",
       "  <tbody>\n",
       "    <tr>\n",
       "      <th>0</th>\n",
       "      <td>5.1</td>\n",
       "      <td>3.5</td>\n",
       "      <td>1.4</td>\n",
       "      <td>0.2</td>\n",
       "      <td>Iris-setosa</td>\n",
       "    </tr>\n",
       "    <tr>\n",
       "      <th>1</th>\n",
       "      <td>4.9</td>\n",
       "      <td>3.0</td>\n",
       "      <td>1.4</td>\n",
       "      <td>0.2</td>\n",
       "      <td>Iris-setosa</td>\n",
       "    </tr>\n",
       "    <tr>\n",
       "      <th>2</th>\n",
       "      <td>4.7</td>\n",
       "      <td>3.2</td>\n",
       "      <td>1.3</td>\n",
       "      <td>0.2</td>\n",
       "      <td>Iris-setosa</td>\n",
       "    </tr>\n",
       "    <tr>\n",
       "      <th>3</th>\n",
       "      <td>4.6</td>\n",
       "      <td>3.1</td>\n",
       "      <td>1.5</td>\n",
       "      <td>0.2</td>\n",
       "      <td>Iris-setosa</td>\n",
       "    </tr>\n",
       "    <tr>\n",
       "      <th>4</th>\n",
       "      <td>5.0</td>\n",
       "      <td>3.6</td>\n",
       "      <td>1.4</td>\n",
       "      <td>0.2</td>\n",
       "      <td>Iris-setosa</td>\n",
       "    </tr>\n",
       "  </tbody>\n",
       "</table>\n",
       "</div>"
      ],
      "text/plain": [
       "   sepal_length  sepal_width  petal_length  petal_width      species\n",
       "0           5.1          3.5           1.4          0.2  Iris-setosa\n",
       "1           4.9          3.0           1.4          0.2  Iris-setosa\n",
       "2           4.7          3.2           1.3          0.2  Iris-setosa\n",
       "3           4.6          3.1           1.5          0.2  Iris-setosa\n",
       "4           5.0          3.6           1.4          0.2  Iris-setosa"
      ]
     },
     "execution_count": 18,
     "metadata": {},
     "output_type": "execute_result"
    }
   ],
   "source": [
    "#Loading the datasets\n",
    "df = pd.read_csv('IRIS.csv');\n",
    "df.head()\n"
   ]
  },
  {
   "cell_type": "code",
   "execution_count": 19,
   "id": "66f74eed-00eb-497e-81dc-f72d612b9b50",
   "metadata": {},
   "outputs": [
    {
     "data": {
      "text/html": [
       "<div>\n",
       "<style scoped>\n",
       "    .dataframe tbody tr th:only-of-type {\n",
       "        vertical-align: middle;\n",
       "    }\n",
       "\n",
       "    .dataframe tbody tr th {\n",
       "        vertical-align: top;\n",
       "    }\n",
       "\n",
       "    .dataframe thead th {\n",
       "        text-align: right;\n",
       "    }\n",
       "</style>\n",
       "<table border=\"1\" class=\"dataframe\">\n",
       "  <thead>\n",
       "    <tr style=\"text-align: right;\">\n",
       "      <th></th>\n",
       "      <th>sepal_length</th>\n",
       "      <th>sepal_width</th>\n",
       "      <th>petal_length</th>\n",
       "      <th>petal_width</th>\n",
       "    </tr>\n",
       "  </thead>\n",
       "  <tbody>\n",
       "    <tr>\n",
       "      <th>count</th>\n",
       "      <td>150.000000</td>\n",
       "      <td>150.000000</td>\n",
       "      <td>150.000000</td>\n",
       "      <td>150.000000</td>\n",
       "    </tr>\n",
       "    <tr>\n",
       "      <th>mean</th>\n",
       "      <td>5.843333</td>\n",
       "      <td>3.054000</td>\n",
       "      <td>3.758667</td>\n",
       "      <td>1.198667</td>\n",
       "    </tr>\n",
       "    <tr>\n",
       "      <th>std</th>\n",
       "      <td>0.828066</td>\n",
       "      <td>0.433594</td>\n",
       "      <td>1.764420</td>\n",
       "      <td>0.763161</td>\n",
       "    </tr>\n",
       "    <tr>\n",
       "      <th>min</th>\n",
       "      <td>4.300000</td>\n",
       "      <td>2.000000</td>\n",
       "      <td>1.000000</td>\n",
       "      <td>0.100000</td>\n",
       "    </tr>\n",
       "    <tr>\n",
       "      <th>25%</th>\n",
       "      <td>5.100000</td>\n",
       "      <td>2.800000</td>\n",
       "      <td>1.600000</td>\n",
       "      <td>0.300000</td>\n",
       "    </tr>\n",
       "    <tr>\n",
       "      <th>50%</th>\n",
       "      <td>5.800000</td>\n",
       "      <td>3.000000</td>\n",
       "      <td>4.350000</td>\n",
       "      <td>1.300000</td>\n",
       "    </tr>\n",
       "    <tr>\n",
       "      <th>75%</th>\n",
       "      <td>6.400000</td>\n",
       "      <td>3.300000</td>\n",
       "      <td>5.100000</td>\n",
       "      <td>1.800000</td>\n",
       "    </tr>\n",
       "    <tr>\n",
       "      <th>max</th>\n",
       "      <td>7.900000</td>\n",
       "      <td>4.400000</td>\n",
       "      <td>6.900000</td>\n",
       "      <td>2.500000</td>\n",
       "    </tr>\n",
       "  </tbody>\n",
       "</table>\n",
       "</div>"
      ],
      "text/plain": [
       "       sepal_length  sepal_width  petal_length  petal_width\n",
       "count    150.000000   150.000000    150.000000   150.000000\n",
       "mean       5.843333     3.054000      3.758667     1.198667\n",
       "std        0.828066     0.433594      1.764420     0.763161\n",
       "min        4.300000     2.000000      1.000000     0.100000\n",
       "25%        5.100000     2.800000      1.600000     0.300000\n",
       "50%        5.800000     3.000000      4.350000     1.300000\n",
       "75%        6.400000     3.300000      5.100000     1.800000\n",
       "max        7.900000     4.400000      6.900000     2.500000"
      ]
     },
     "execution_count": 19,
     "metadata": {},
     "output_type": "execute_result"
    }
   ],
   "source": [
    "#to display stats about data \n",
    "df.describe()"
   ]
  },
  {
   "cell_type": "code",
   "execution_count": 21,
   "id": "ba83ffac-be21-4baa-9f7c-abda04af0c84",
   "metadata": {},
   "outputs": [
    {
     "name": "stdout",
     "output_type": "stream",
     "text": [
      "<class 'pandas.core.frame.DataFrame'>\n",
      "RangeIndex: 150 entries, 0 to 149\n",
      "Data columns (total 5 columns):\n",
      " #   Column        Non-Null Count  Dtype  \n",
      "---  ------        --------------  -----  \n",
      " 0   sepal_length  150 non-null    float64\n",
      " 1   sepal_width   150 non-null    float64\n",
      " 2   petal_length  150 non-null    float64\n",
      " 3   petal_width   150 non-null    float64\n",
      " 4   species       150 non-null    object \n",
      "dtypes: float64(4), object(1)\n",
      "memory usage: 6.0+ KB\n"
     ]
    }
   ],
   "source": [
    "#display no of samples on each class\n",
    "df.info()\n"
   ]
  },
  {
   "cell_type": "code",
   "execution_count": 23,
   "id": "c864987a-214c-43f1-8b22-3be50a198233",
   "metadata": {},
   "outputs": [
    {
     "data": {
      "text/plain": [
       "species\n",
       "Iris-setosa        50\n",
       "Iris-versicolor    50\n",
       "Iris-virginica     50\n",
       "Name: count, dtype: int64"
      ]
     },
     "execution_count": 23,
     "metadata": {},
     "output_type": "execute_result"
    }
   ],
   "source": [
    "#to display no of samples on each class\n",
    "df['species'].value_counts()"
   ]
  },
  {
   "cell_type": "code",
   "execution_count": 26,
   "id": "065fd778-58b4-4af9-9096-58495f99aa2b",
   "metadata": {},
   "outputs": [
    {
     "data": {
      "text/plain": [
       "sepal_length    0\n",
       "sepal_width     0\n",
       "petal_length    0\n",
       "petal_width     0\n",
       "species         0\n",
       "dtype: int64"
      ]
     },
     "execution_count": 26,
     "metadata": {},
     "output_type": "execute_result"
    }
   ],
   "source": [
    "#PREPROCESSING THE DATASET \n",
    "#check for null values\n",
    "df.isnull().sum()"
   ]
  },
  {
   "cell_type": "code",
   "execution_count": 27,
   "id": "f4aff3b7-c1ef-425d-83e6-0a2cf94b6f27",
   "metadata": {},
   "outputs": [],
   "source": [
    "#EXPLORATORY DATA ANALYSIS"
   ]
  },
  {
   "cell_type": "code",
   "execution_count": 28,
   "id": "067d29a5-1c05-43dd-85df-709fd1da87fc",
   "metadata": {},
   "outputs": [
    {
     "data": {
      "text/plain": [
       "<Axes: >"
      ]
     },
     "execution_count": 28,
     "metadata": {},
     "output_type": "execute_result"
    },
    {
     "data": {
      "image/png": "[encoded data removed]",
      "text/plain": [
       "<Figure size 640x480 with 1 Axes>"
      ]
     },
     "metadata": {},
     "output_type": "display_data"
    }
   ],
   "source": [
    "df['sepal_length'].hist()"
   ]
  },
  {
   "cell_type": "code",
   "execution_count": 30,
   "id": "d889df50-f374-479d-bb11-4c6e185077c0",
   "metadata": {},
   "outputs": [
    {
     "data": {
      "text/plain": [
       "<Axes: >"
      ]
     },
     "execution_count": 30,
     "metadata": {},
     "output_type": "execute_result"
    },
    {
     "data": {
      "image/png": "[encoded data removed]",
      "text/plain": [
       "<Figure size 640x480 with 1 Axes>"
      ]
     },
     "metadata": {},
     "output_type": "display_data"
    }
   ],
   "source": [
    "df['petal_width'].hist()"
   ]
  },
  {
   "cell_type": "code",
   "execution_count": 31,
   "id": "6799e8d1-3b5b-423b-8a11-5c8fc510252b",
   "metadata": {},
   "outputs": [
    {
     "data": {
      "text/plain": [
       "<Axes: >"
      ]
     },
     "execution_count": 31,
     "metadata": {},
     "output_type": "execute_result"
    },
    {
     "data": {
      "image/png": "[encoded data removed]",
      "text/plain": [
       "<Figure size 640x480 with 1 Axes>"
      ]
     },
     "metadata": {},
     "output_type": "display_data"
    }
   ],
   "source": [
    "df['sepal_width'].hist()"
   ]
  },
  {
   "cell_type": "code",
   "execution_count": 32,
   "id": "d64059c8-6db0-4af8-bd53-a29777418e33",
   "metadata": {},
   "outputs": [
    {
     "data": {
      "text/plain": [
       "<Axes: >"
      ]
     },
     "execution_count": 32,
     "metadata": {},
     "output_type": "execute_result"
    },
    {
     "data": {
      "image/png": "[encoded data removed]",
      "text/plain": [
       "<Figure size 640x480 with 1 Axes>"
      ]
     },
     "metadata": {},
     "output_type": "display_data"
    }
   ],
   "source": [
    "df['petal_width'].hist()"
   ]
  },
  {
   "cell_type": "code",
   "execution_count": 44,
   "id": "6785c59f-822b-4194-bdf7-7e5c34a6be0e",
   "metadata": {},
   "outputs": [],
   "source": [
    "#scatterplot\n",
    "colors=['red','orange','blue']\n",
    "species =['Iris-Virginica','Iris-versicolor','Iris-setosa']"
   ]
  },
  {
   "cell_type": "code",
   "execution_count": 40,
   "id": "b886b2ee-f002-4aca-a337-5bd494e42bdc",
   "metadata": {},
   "outputs": [
    {
     "data": {
      "text/plain": [
       "<matplotlib.legend.Legend at 0x20dd008cc90>"
      ]
     },
     "execution_count": 40,
     "metadata": {},
     "output_type": "execute_result"
    },
    {
     "data": {
      "image/png": "[encoded data removed]",
      "text/plain": [
       "<Figure size 640x480 with 1 Axes>"
      ]
     },
     "metadata": {},
     "output_type": "display_data"
    }
   ],
   "source": [
    "for i in range(3):\n",
    "    x=df[df['species']==species[i]]\n",
    "    plt.scatter(x['sepal_length'],x['sepal_width'],c = colors[i],label=species[i])\n",
    "plt.xlabel(\"sepal Length\")\n",
    "plt.ylabel(\"sepal width\")\n",
    "plt.legend()"
   ]
  },
  {
   "cell_type": "code",
   "execution_count": 41,
   "id": "cc81af28-f37d-49fa-8237-6bc07f716d04",
   "metadata": {},
   "outputs": [
    {
     "data": {
      "text/plain": [
       "<matplotlib.legend.Legend at 0x20dd26c5dd0>"
      ]
     },
     "execution_count": 41,
     "metadata": {},
     "output_type": "execute_result"
    },
    {
     "data": {
      "image/png": "[encoded data removed]",
      "text/plain": [
       "<Figure size 640x480 with 1 Axes>"
      ]
     },
     "metadata": {},
     "output_type": "display_data"
    }
   ],
   "source": [
    "for i in range(3):\n",
    "    x=df[df['species']==species[i]]\n",
    "    plt.scatter(x['petal_length'],x['petal_width'],c = colors[i],label=species[i])\n",
    "plt.xlabel(\"petal Length\")\n",
    "plt.ylabel(\"petal width\")\n",
    "plt.legend()"
   ]
  },
  {
   "cell_type": "code",
   "execution_count": 42,
   "id": "386284cb-6e48-4371-9677-09ac93573d1d",
   "metadata": {},
   "outputs": [
    {
     "data": {
      "text/plain": [
       "<matplotlib.legend.Legend at 0x20dd017f010>"
      ]
     },
     "execution_count": 42,
     "metadata": {},
     "output_type": "execute_result"
    },
    {
     "data": {
      "image/png": "[encoded data removed]",
      "text/plain": [
       "<Figure size 640x480 with 1 Axes>"
      ]
     },
     "metadata": {},
     "output_type": "display_data"
    }
   ],
   "source": [
    "for i in range(3):\n",
    "    x=df[df['species']==species[i]]\n",
    "    plt.scatter(x['petal_length'],x['petal_width'],c=colors[i],label=species[i])\n",
    "plt.xlabel(\"petal_length\")\n",
    "plt.ylabel(\"petal_width\")\n",
    "plt.legend()"
   ]
  },
  {
   "cell_type": "code",
   "execution_count": 9,
   "id": "e4b3de48-8670-4180-84b9-2114e712362f",
   "metadata": {},
   "outputs": [
    {
     "ename": "NameError",
     "evalue": "name 'df' is not defined",
     "output_type": "error",
     "traceback": [
      "\u001b[1;31m---------------------------------------------------------------------------\u001b[0m",
      "\u001b[1;31mNameError\u001b[0m                                 Traceback (most recent call last)",
      "Cell \u001b[1;32mIn[9], line 1\u001b[0m\n\u001b[1;32m----> 1\u001b[0m \u001b[43mdf\u001b[49m\u001b[38;5;241m.\u001b[39mcorr()\n",
      "\u001b[1;31mNameError\u001b[0m: name 'df' is not defined"
     ]
    }
   ],
   "source": [
    "df.corr()"
   ]
  },
  {
   "cell_type": "code",
   "execution_count": 12,
   "id": "a44e7ac7-29bd-478a-980a-774f847d2e2a",
   "metadata": {},
   "outputs": [
    {
     "ename": "NameError",
     "evalue": "name 'df' is not defined",
     "output_type": "error",
     "traceback": [
      "\u001b[1;31m---------------------------------------------------------------------------\u001b[0m",
      "\u001b[1;31mNameError\u001b[0m                                 Traceback (most recent call last)",
      "Cell \u001b[1;32mIn[12], line 1\u001b[0m\n\u001b[1;32m----> 1\u001b[0m core\u001b[38;5;241m=\u001b[39m\u001b[43mdf\u001b[49m\u001b[38;5;241m.\u001b[39mcorr()\n\u001b[0;32m      2\u001b[0m fig,ax \u001b[38;5;241m=\u001b[39m plt\u001b[38;5;241m.\u001b[39msubplots(figsize\u001b[38;5;241m=\u001b[39m(\u001b[38;5;241m10\u001b[39m,\u001b[38;5;241m10\u001b[39m))\n\u001b[0;32m      3\u001b[0m sns\u001b[38;5;241m.\u001b[39mheatmap(corr, annot\u001b[38;5;241m=\u001b[39m \u001b[38;5;28;01mTrue\u001b[39;00m,ax\u001b[38;5;241m=\u001b[39max)\n",
      "\u001b[1;31mNameError\u001b[0m: name 'df' is not defined"
     ]
    }
   ],
   "source": [
    "core=df.corr()\n",
    "fig,ax = plt.subplots(figsize=(10,10))\n",
    "sns.heatmap(corr, annot= True,ax=ax)\n",
    "            "
   ]
  },
  {
   "cell_type": "code",
   "execution_count": 13,
   "id": "eda2f574-d7c8-401b-9fbb-8762eebd3c1a",
   "metadata": {},
   "outputs": [
    {
     "ename": "ModuleNotFoundError",
     "evalue": "No module named 'sklearn'",
     "output_type": "error",
     "traceback": [
      "\u001b[1;31m---------------------------------------------------------------------------\u001b[0m",
      "\u001b[1;31mModuleNotFoundError\u001b[0m                       Traceback (most recent call last)",
      "Cell \u001b[1;32mIn[13], line 2\u001b[0m\n\u001b[0;32m      1\u001b[0m \u001b[38;5;66;03m#Label Encoder\u001b[39;00m\n\u001b[1;32m----> 2\u001b[0m \u001b[38;5;28;01mfrom\u001b[39;00m \u001b[38;5;21;01msklearn\u001b[39;00m\u001b[38;5;21;01m.\u001b[39;00m\u001b[38;5;21;01mpreprocessing\u001b[39;00m \u001b[38;5;28;01mimport\u001b[39;00m LabelEncoder\n\u001b[0;32m      3\u001b[0m le \u001b[38;5;241m=\u001b[39m LabelEncoder()\n",
      "\u001b[1;31mModuleNotFoundError\u001b[0m: No module named 'sklearn'"
     ]
    }
   ],
   "source": [
    "#Label Encoder\n",
    "from sklearn.preprocessing import LabelEncoder\n",
    "le = LabelEncoder()"
   ]
  },
  {
   "cell_type": "code",
   "execution_count": 14,
   "id": "94f6586a-ab4d-480b-99cc-54d445224fe7",
   "metadata": {},
   "outputs": [
    {
     "ename": "NameError",
     "evalue": "name 'le' is not defined",
     "output_type": "error",
     "traceback": [
      "\u001b[1;31m---------------------------------------------------------------------------\u001b[0m",
      "\u001b[1;31mNameError\u001b[0m                                 Traceback (most recent call last)",
      "Cell \u001b[1;32mIn[14], line 1\u001b[0m\n\u001b[1;32m----> 1\u001b[0m df[\u001b[38;5;124m'\u001b[39m\u001b[38;5;124mspecies\u001b[39m\u001b[38;5;124m'\u001b[39m] \u001b[38;5;241m=\u001b[39m \u001b[43mle\u001b[49m\u001b[38;5;241m.\u001b[39mfit_transform(df[\u001b[38;5;124m'\u001b[39m\u001b[38;5;124mspecies\u001b[39m\u001b[38;5;124m'\u001b[39m])\n\u001b[0;32m      2\u001b[0m df\u001b[38;5;241m.\u001b[39mhead()\n",
      "\u001b[1;31mNameError\u001b[0m: name 'le' is not defined"
     ]
    }
   ],
   "source": [
    "df['species'] = le.fit_transform(df['species'])\n",
    "df.head()"
   ]
  },
  {
   "cell_type": "code",
   "execution_count": 15,
   "id": "83f8b248-5172-4d26-9635-24a4a7df5940",
   "metadata": {},
   "outputs": [
    {
     "ename": "SyntaxError",
     "evalue": "invalid syntax (1941162070.py, line 2)",
     "output_type": "error",
     "traceback": [
      "\u001b[1;36m  Cell \u001b[1;32mIn[15], line 2\u001b[1;36m\u001b[0m\n\u001b[1;33m    from sklearn.model selection import train_test_split\u001b[0m\n\u001b[1;37m                       ^\u001b[0m\n\u001b[1;31mSyntaxError\u001b[0m\u001b[1;31m:\u001b[0m invalid syntax\n"
     ]
    }
   ],
   "source": [
    "#MODEL TRAINING\n",
    "from sklearn.model selection import train_test_split \n"
   ]
  },
  {
   "cell_type": "code",
   "execution_count": null,
   "id": "ae9c268f-88e1-427f-bf98-49ad992059bb",
   "metadata": {},
   "outputs": [],
   "source": []
  }
 ],
 "metadata": {
  "kernelspec": {
   "display_name": "Python 3 (ipykernel)",
   "language": "python",
   "name": "python3"
  },
  "language_info": {
   "codemirror_mode": {
    "name": "ipython",
    "version": 3
   },
   "file_extension": ".py",
   "mimetype": "text/x-python",
   "name": "python",
   "nbconvert_exporter": "python",
   "pygments_lexer": "ipython3",
   "version": "3.11.4"
  }
 },
 "nbformat": 4,
 "nbformat_minor": 5
}
